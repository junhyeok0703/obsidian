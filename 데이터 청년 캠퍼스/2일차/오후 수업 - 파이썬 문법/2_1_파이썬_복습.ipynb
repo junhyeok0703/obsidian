{
  "nbformat": 4,
  "nbformat_minor": 0,
  "metadata": {
    "colab": {
      "provenance": []
    },
    "kernelspec": {
      "name": "python3",
      "display_name": "Python 3"
    },
    "language_info": {
      "name": "python"
    }
  },
  "cells": [
    {
      "cell_type": "code",
      "execution_count": 8,
      "metadata": {
        "colab": {
          "base_uri": "https://localhost:8080/"
        },
        "id": "5rgeIejKXWF3",
        "outputId": "46273a5a-6d44-4357-93e3-502164c1baf3"
      },
      "outputs": [
        {
          "output_type": "stream",
          "name": "stdout",
          "text": [
            "[1, 5, 7]\n"
          ]
        }
      ],
      "source": [
        "#리스트 복습하기\n",
        "a = [1, 5, 7]\n",
        "print(a)"
      ]
    },
    {
      "cell_type": "code",
      "source": [
        "#리스트 안의 요소는 다양한 자료형을 섞어서 사용할 수 있다.\n",
        "b = [1, \"안녕\", 4.7]\n",
        "print(b)"
      ],
      "metadata": {
        "colab": {
          "base_uri": "https://localhost:8080/"
        },
        "id": "gWILnnNYXmmD",
        "outputId": "983255d0-e16f-4339-c0ba-a19c37b01562"
      },
      "execution_count": 9,
      "outputs": [
        {
          "output_type": "stream",
          "name": "stdout",
          "text": [
            "[1, '안녕', 4.7]\n"
          ]
        }
      ]
    },
    {
      "cell_type": "code",
      "source": [
        "b[1]"
      ],
      "metadata": {
        "colab": {
          "base_uri": "https://localhost:8080/",
          "height": 35
        },
        "id": "hyn-zo13Ywb8",
        "outputId": "b7923017-93eb-495e-e526-ce7a53bc4433"
      },
      "execution_count": 10,
      "outputs": [
        {
          "output_type": "execute_result",
          "data": {
            "text/plain": [
              "'안녕'"
            ],
            "application/vnd.google.colaboratory.intrinsic+json": {
              "type": "string"
            }
          },
          "metadata": {},
          "execution_count": 10
        }
      ]
    },
    {
      "cell_type": "code",
      "source": [
        "#슬라이싱\n",
        "#리스트변수이름[시작:끝]\n",
        "b[1:3]"
      ],
      "metadata": {
        "colab": {
          "base_uri": "https://localhost:8080/"
        },
        "id": "htfoQ_CPZFSt",
        "outputId": "b3c08ae2-0d13-46ef-a012-3a57462b175d"
      },
      "execution_count": 11,
      "outputs": [
        {
          "output_type": "execute_result",
          "data": {
            "text/plain": [
              "['안녕', 4.7]"
            ]
          },
          "metadata": {},
          "execution_count": 11
        }
      ]
    },
    {
      "cell_type": "code",
      "source": [
        "b[1:2]"
      ],
      "metadata": {
        "colab": {
          "base_uri": "https://localhost:8080/"
        },
        "id": "3BT-NQo8Z3Ro",
        "outputId": "d7e749e4-9b75-46ef-9c84-5554ff27b7fe"
      },
      "execution_count": 12,
      "outputs": [
        {
          "output_type": "execute_result",
          "data": {
            "text/plain": [
              "['안녕']"
            ]
          },
          "metadata": {},
          "execution_count": 12
        }
      ]
    },
    {
      "cell_type": "code",
      "source": [
        "#형변환 list(dfeijdkf)\n",
        "text_to_list = list(\"안녕하세요\")"
      ],
      "metadata": {
        "id": "-NjFSqEjXzi8"
      },
      "execution_count": 13,
      "outputs": []
    },
    {
      "cell_type": "code",
      "source": [
        "print(text_to_list)"
      ],
      "metadata": {
        "colab": {
          "base_uri": "https://localhost:8080/"
        },
        "id": "P9zbQlyQYHCa",
        "outputId": "d9ec1bd9-b4ba-4d2a-d42a-47b4aeb313f0"
      },
      "execution_count": 14,
      "outputs": [
        {
          "output_type": "stream",
          "name": "stdout",
          "text": [
            "['안', '녕', '하', '세', '요']\n"
          ]
        }
      ]
    },
    {
      "cell_type": "code",
      "source": [
        "#인덱싱(뒤에서부터 접근) -를 붙인다, 단 -1부터 시작한다.\n",
        "text_to_list[1:-2]"
      ],
      "metadata": {
        "colab": {
          "base_uri": "https://localhost:8080/"
        },
        "id": "9w5umSoMrF6S",
        "outputId": "4ecff9d4-f928-4610-eeba-48ddf82fa7b8"
      },
      "execution_count": 18,
      "outputs": [
        {
          "output_type": "execute_result",
          "data": {
            "text/plain": [
              "['녕', '하']"
            ]
          },
          "metadata": {},
          "execution_count": 18
        }
      ]
    },
    {
      "cell_type": "code",
      "source": [
        "#인덱싱으로 건너뛰기\n",
        "text_to_list[1::2]"
      ],
      "metadata": {
        "colab": {
          "base_uri": "https://localhost:8080/"
        },
        "id": "9ur9_KdgrelN",
        "outputId": "79cff72a-589f-4e4c-f673-e56118d09f31"
      },
      "execution_count": 20,
      "outputs": [
        {
          "output_type": "execute_result",
          "data": {
            "text/plain": [
              "['녕', '세']"
            ]
          },
          "metadata": {},
          "execution_count": 20
        }
      ]
    },
    {
      "cell_type": "code",
      "source": [
        "#미니퀴즈\n",
        "#다음과 같이 인쇄해보세요.\n",
        "\n",
        "list2 = list(\"우리는 파이썬 공부중. 신난다!\")\n",
        "print(list2)\n",
        "\n",
        "#슬라이싱으로 썬에서 중까지 인쇄\n",
        "print(list2[6:11])\n",
        "#슬라이싱으로 전체를 4칸씩 띄어놓고 인쇄\n",
        "print(list2[::4])\n",
        "#슬라이싱으로 뒤에서 5번째 8번째 가져오기.\n",
        "print(list2[-8:-4])"
      ],
      "metadata": {
        "colab": {
          "base_uri": "https://localhost:8080/"
        },
        "id": "yQogE3JQr8uY",
        "outputId": "66515c14-f3e9-4c59-bfd1-4841efe60a8f"
      },
      "execution_count": 25,
      "outputs": [
        {
          "output_type": "stream",
          "name": "stdout",
          "text": [
            "['우', '리', '는', ' ', '파', '이', '썬', ' ', '공', '부', '중', '.', ' ', '신', '난', '다', '!']\n",
            "['썬', ' ', '공', '부', '중']\n",
            "['우', '파', '공', ' ', '!']\n",
            "['부', '중', '.', ' ']\n"
          ]
        }
      ]
    },
    {
      "cell_type": "code",
      "source": [
        "#내용 더하기\n",
        "list2.append(\"^^\")\n",
        "print(list2)"
      ],
      "metadata": {
        "colab": {
          "base_uri": "https://localhost:8080/"
        },
        "id": "gaSsd317tola",
        "outputId": "dc431efa-6e59-481f-8bdf-8157d852372f"
      },
      "execution_count": 26,
      "outputs": [
        {
          "output_type": "stream",
          "name": "stdout",
          "text": [
            "['우', '리', '는', ' ', '파', '이', '썬', ' ', '공', '부', '중', '.', ' ', '신', '난', '다', '!', '^^']\n"
          ]
        }
      ]
    },
    {
      "cell_type": "code",
      "source": [
        "#인덱스를 통해 리스트 중간 값을 변경 가능\n",
        "list2[10] = '끝'\n",
        "print(list2)"
      ],
      "metadata": {
        "colab": {
          "base_uri": "https://localhost:8080/"
        },
        "id": "IaT34mtruLf3",
        "outputId": "8b436b97-b387-4cdf-fd68-6506ae63954b"
      },
      "execution_count": 27,
      "outputs": [
        {
          "output_type": "stream",
          "name": "stdout",
          "text": [
            "['우', '리', '는', ' ', '파', '이', '썬', ' ', '공', '부', '끝', '.', ' ', '신', '난', '다', '!', '^^']\n"
          ]
        }
      ]
    },
    {
      "cell_type": "code",
      "source": [
        "list2.remove('!')"
      ],
      "metadata": {
        "id": "55LBkBUyubVv"
      },
      "execution_count": 29,
      "outputs": []
    },
    {
      "cell_type": "code",
      "source": [
        "print(list2)"
      ],
      "metadata": {
        "colab": {
          "base_uri": "https://localhost:8080/"
        },
        "id": "VCBqRzsvu1eo",
        "outputId": "808574f2-aaf1-4e59-d45f-8425992b8c23"
      },
      "execution_count": 30,
      "outputs": [
        {
          "output_type": "stream",
          "name": "stdout",
          "text": [
            "['우', '리', '는', ' ', '파', '이', '썬', ' ', '공', '부', '끝', '.', ' ', '신', '난', '다', '^^']\n"
          ]
        }
      ]
    },
    {
      "cell_type": "code",
      "source": [
        "count=0\n",
        "for a in range(len(list2)):\n",
        "  count += 1 #count=count+1\n",
        "  print(count)"
      ],
      "metadata": {
        "colab": {
          "base_uri": "https://localhost:8080/"
        },
        "id": "F3NM2MV3u2kl",
        "outputId": "5a45d875-0ffc-4339-cb4c-5c89daeb454f"
      },
      "execution_count": 41,
      "outputs": [
        {
          "output_type": "stream",
          "name": "stdout",
          "text": [
            "17\n"
          ]
        }
      ]
    },
    {
      "cell_type": "code",
      "source": [],
      "metadata": {
        "id": "ziv54dfozS27"
      },
      "execution_count": null,
      "outputs": []
    },
    {
      "cell_type": "markdown",
      "source": [
        "## 키와 값의 쌍인 딕셔너리"
      ],
      "metadata": {
        "id": "pc1096GSwix7"
      }
    },
    {
      "cell_type": "code",
      "source": [
        "sample = {\"1\":\"구름\", \"2\":\"비\", 3:\"천둥\"}"
      ],
      "metadata": {
        "id": "5IfpBeh1wki9"
      },
      "execution_count": 34,
      "outputs": []
    },
    {
      "cell_type": "code",
      "source": [
        "sample[\"1\"]"
      ],
      "metadata": {
        "colab": {
          "base_uri": "https://localhost:8080/",
          "height": 35
        },
        "id": "A-nYZfyBwyoH",
        "outputId": "9b09c8f8-14aa-4a19-cbc4-12a66d7984f0"
      },
      "execution_count": 35,
      "outputs": [
        {
          "output_type": "execute_result",
          "data": {
            "text/plain": [
              "'구름'"
            ],
            "application/vnd.google.colaboratory.intrinsic+json": {
              "type": "string"
            }
          },
          "metadata": {},
          "execution_count": 35
        }
      ]
    },
    {
      "cell_type": "code",
      "source": [
        "#값 추가\n",
        "sample[\"4\"] = \"강아지\""
      ],
      "metadata": {
        "id": "N-WDXSvtYI9i"
      },
      "execution_count": 36,
      "outputs": []
    },
    {
      "cell_type": "code",
      "source": [
        "sample"
      ],
      "metadata": {
        "colab": {
          "base_uri": "https://localhost:8080/"
        },
        "id": "b-cA1wrYxGaV",
        "outputId": "7c5c15a9-de06-4a5a-b262-22a66c24dfe8"
      },
      "execution_count": 37,
      "outputs": [
        {
          "output_type": "execute_result",
          "data": {
            "text/plain": [
              "{'1': '구름', '2': '비', 3: '천둥', '4': '강아지'}"
            ]
          },
          "metadata": {},
          "execution_count": 37
        }
      ]
    },
    {
      "cell_type": "code",
      "source": [
        "#\"is not defined\" >> #실행안함"
      ],
      "metadata": {
        "id": "s0-fBKZixHil"
      },
      "execution_count": null,
      "outputs": []
    },
    {
      "cell_type": "code",
      "source": [
        "del sample['1']"
      ],
      "metadata": {
        "id": "7-6FvPBSxwfO"
      },
      "execution_count": 38,
      "outputs": []
    },
    {
      "cell_type": "code",
      "source": [
        "sample"
      ],
      "metadata": {
        "colab": {
          "base_uri": "https://localhost:8080/"
        },
        "id": "Opwj-7axxyuB",
        "outputId": "cc6cc363-c6c2-45a4-d5bd-0d94e48c5bdb"
      },
      "execution_count": 39,
      "outputs": [
        {
          "output_type": "execute_result",
          "data": {
            "text/plain": [
              "{'2': '비', 3: '천둥', '4': '강아지'}"
            ]
          },
          "metadata": {},
          "execution_count": 39
        }
      ]
    },
    {
      "cell_type": "code",
      "source": [
        "#1. 딕셔너리의 모든 키를 인쇄하는 함수를 적어보세요\n",
        "sample.keys()\n",
        "#2. 딕셔너리의 모든 값을 인쇄하는 함수를 적어보세요.\n",
        "sample.values()\n",
        "#3. 딕셔너리의 키와 값 쌍을 인쇄하는 함수를 적어보세요.\n",
        "sample.items()"
      ],
      "metadata": {
        "colab": {
          "base_uri": "https://localhost:8080/"
        },
        "id": "tRIfV5Fhxz1l",
        "outputId": "f0c6e46e-e58e-453b-9a48-f297eec1d697"
      },
      "execution_count": 40,
      "outputs": [
        {
          "output_type": "execute_result",
          "data": {
            "text/plain": [
              "dict_items([('2', '비'), (3, '천둥'), ('4', '강아지')])"
            ]
          },
          "metadata": {},
          "execution_count": 40
        }
      ]
    },
    {
      "cell_type": "code",
      "source": [
        "1 in sample.keys()"
      ],
      "metadata": {
        "colab": {
          "base_uri": "https://localhost:8080/"
        },
        "id": "eRERU494ykQ2",
        "outputId": "cf833fff-c88f-423d-ed79-209f422b0a9e"
      },
      "execution_count": 42,
      "outputs": [
        {
          "output_type": "execute_result",
          "data": {
            "text/plain": [
              "False"
            ]
          },
          "metadata": {},
          "execution_count": 42
        }
      ]
    },
    {
      "cell_type": "code",
      "source": [
        "3 not in sample.keys()"
      ],
      "metadata": {
        "colab": {
          "base_uri": "https://localhost:8080/"
        },
        "id": "1ievzuwPzkTh",
        "outputId": "b1f21be4-e557-45b1-d400-669976a5ce7a"
      },
      "execution_count": 43,
      "outputs": [
        {
          "output_type": "execute_result",
          "data": {
            "text/plain": [
              "False"
            ]
          },
          "metadata": {},
          "execution_count": 43
        }
      ]
    },
    {
      "cell_type": "code",
      "source": [
        "name = input()\n",
        "print(\"안녕하세요 제 이름은 \", name, \"입니다.\")"
      ],
      "metadata": {
        "colab": {
          "base_uri": "https://localhost:8080/"
        },
        "id": "MMetFkCyzrFh",
        "outputId": "5bf7eb75-b3d0-439c-a094-f19f5c6d972c"
      },
      "execution_count": 44,
      "outputs": [
        {
          "output_type": "stream",
          "name": "stdout",
          "text": [
            "박정은\n",
            "안녕하세요 제 이름은  박정은 입니다.\n"
          ]
        }
      ]
    },
    {
      "cell_type": "code",
      "source": [
        "number = input(\"숫자를 넣어주세요.\")\n",
        "\n",
        "#0부터 9개\n",
        "for i in range(9):\n",
        "  #형변환(input으로 들어오는 모든 값은 \"문자\")\n",
        "  print( int(number) * (i+1))"
      ],
      "metadata": {
        "colab": {
          "base_uri": "https://localhost:8080/"
        },
        "id": "-5rfTAT10O0V",
        "outputId": "ad02f460-711d-4e8e-d329-40f6e4f301d1"
      },
      "execution_count": 49,
      "outputs": [
        {
          "output_type": "stream",
          "name": "stdout",
          "text": [
            "숫자를 넣어주세요.15\n",
            "15\n",
            "30\n",
            "45\n",
            "60\n",
            "75\n",
            "90\n",
            "105\n",
            "120\n",
            "135\n"
          ]
        }
      ]
    },
    {
      "cell_type": "code",
      "source": [
        "#for문 뒤에 올 수 있는 반복! 가능한 요소\n",
        "for a in range(1,11):\n",
        "  print(a)"
      ],
      "metadata": {
        "colab": {
          "base_uri": "https://localhost:8080/"
        },
        "id": "ubKPzoaB32SQ",
        "outputId": "172458f6-ef37-4ff5-ee1e-06aba2c7162b"
      },
      "execution_count": 52,
      "outputs": [
        {
          "output_type": "stream",
          "name": "stdout",
          "text": [
            "1\n",
            "2\n",
            "3\n",
            "4\n",
            "5\n",
            "6\n",
            "7\n",
            "8\n",
            "9\n",
            "10\n"
          ]
        }
      ]
    },
    {
      "cell_type": "code",
      "source": [
        "#for문 뒤에 올수있는 요소 : 리스트, 튜플\n",
        "for a in ('복숭아', '자두', '참외'):\n",
        "  print(a)"
      ],
      "metadata": {
        "colab": {
          "base_uri": "https://localhost:8080/"
        },
        "id": "x06pZnNv5Hp1",
        "outputId": "52ef87ea-cc05-4d03-912f-18bcfc41dac5"
      },
      "execution_count": 54,
      "outputs": [
        {
          "output_type": "stream",
          "name": "stdout",
          "text": [
            "복숭아\n",
            "자두\n",
            "참외\n"
          ]
        }
      ]
    },
    {
      "cell_type": "code",
      "source": [
        "#for a in range(3) 와 같다.\n",
        "for a in range(len(['복숭아', '자두', '참외'])):\n",
        "  print(a)"
      ],
      "metadata": {
        "colab": {
          "base_uri": "https://localhost:8080/"
        },
        "id": "i6PtYh4W5j0z",
        "outputId": "9aee1142-2e14-4537-d126-ae70f850d705"
      },
      "execution_count": 55,
      "outputs": [
        {
          "output_type": "stream",
          "name": "stdout",
          "text": [
            "0\n",
            "1\n",
            "2\n"
          ]
        }
      ]
    },
    {
      "cell_type": "code",
      "source": [
        "['복숭아', '자두', '참외']"
      ],
      "metadata": {
        "colab": {
          "base_uri": "https://localhost:8080/"
        },
        "id": "apmjBEu_5cRA",
        "outputId": "13fc1e63-aaaf-4e0f-d720-bdb58d3d2a33"
      },
      "execution_count": 56,
      "outputs": [
        {
          "output_type": "execute_result",
          "data": {
            "text/plain": [
              "['복숭아', '자두', '참외']"
            ]
          },
          "metadata": {},
          "execution_count": 56
        }
      ]
    },
    {
      "cell_type": "code",
      "source": [
        "len(['복숭아', '자두', '참외'])"
      ],
      "metadata": {
        "colab": {
          "base_uri": "https://localhost:8080/"
        },
        "id": "yQxrrh6I3uwq",
        "outputId": "f10a670c-0ba1-40bd-9125-ba227e741297"
      },
      "execution_count": 57,
      "outputs": [
        {
          "output_type": "execute_result",
          "data": {
            "text/plain": [
              "3"
            ]
          },
          "metadata": {},
          "execution_count": 57
        }
      ]
    },
    {
      "cell_type": "markdown",
      "source": [
        "### 숫자 야구 게임!!!\n",
        "\n",
        "- 임의의 숫자 3개를 생각한다.\n",
        "- 상대방이 숫자 3개를 말한다.\n",
        "- 숫자의 순서와 숫자 모두 맞으면 스트라이크\n",
        "- 숫자만 맞으면(자리 틀림) 볼\n",
        "- '나'는 n스트라이크 m볼 이라고 말해준다.\n",
        "- 다 맞힐 때까지 반복한다."
      ],
      "metadata": {
        "id": "ZPTRh7DF6ra1"
      }
    },
    {
      "cell_type": "code",
      "source": [
        "numbers = input(\"숫자를 세 개 적어주세요.\")"
      ],
      "metadata": {
        "colab": {
          "base_uri": "https://localhost:8080/"
        },
        "id": "G_A0Vq1x6tfP",
        "outputId": "a3f3a7e5-74d0-4f82-85ff-7a511ac5d4cc"
      },
      "execution_count": 58,
      "outputs": [
        {
          "name": "stdout",
          "output_type": "stream",
          "text": [
            "숫자를 세 개 적어주세요.2, 5, 6\n"
          ]
        }
      ]
    },
    {
      "cell_type": "code",
      "source": [
        "#1. 컴퓨터가 가상의 숫자 3개를 만들어내도록 해야 합니다.\n",
        "#2. 내가 숫자 3개를 입력합니다.\n",
        "#3. 내가 적어 넣은 숫자를 컴퓨터의 숫자 3개와 비교해야합니다.\n",
        "#4. 내가 숫자를 모두 맞힐 때 까지 계속 반복하여 2~3를 수행해야 합니다."
      ],
      "metadata": {
        "id": "_UxR-Ic_7b6X"
      },
      "execution_count": null,
      "outputs": []
    },
    {
      "cell_type": "markdown",
      "source": [
        "## 1. 가상의 숫자 3개 만들게 하기\n",
        "\n",
        "- 라이브러리(==패키지, 모듈) 임포트"
      ],
      "metadata": {
        "id": "7xqOxJc98BUM"
      }
    },
    {
      "cell_type": "code",
      "source": [
        "!pip install random2"
      ],
      "metadata": {
        "colab": {
          "base_uri": "https://localhost:8080/"
        },
        "id": "fQC7-PHm8Kpl",
        "outputId": "16855aec-b494-4e95-a7cc-8850589ac1a3"
      },
      "execution_count": 59,
      "outputs": [
        {
          "output_type": "stream",
          "name": "stdout",
          "text": [
            "Collecting random2\n",
            "  Downloading random2-1.0.2-py3-none-any.whl (12 kB)\n",
            "Installing collected packages: random2\n",
            "Successfully installed random2-1.0.2\n"
          ]
        }
      ]
    },
    {
      "cell_type": "code",
      "source": [
        "#numpy, pandas, matplotlib, seaborn << 패키지/ 모듈/ 라이브러"
      ],
      "metadata": {
        "id": "uxP7-GR88Hju"
      },
      "execution_count": null,
      "outputs": []
    },
    {
      "cell_type": "code",
      "source": [
        "import random\n",
        "\n",
        "#random.randint(시작숫자, 끝숫자) : 시작숫자~끝 숫자 사이에서\n",
        "#랜덤 숫자를 하나 뽑으시오.\n",
        "digits = random.randint(1, 100)\n",
        "print(digits)"
      ],
      "metadata": {
        "colab": {
          "base_uri": "https://localhost:8080/"
        },
        "id": "ib3vTs8J8C9W",
        "outputId": "cbe990d8-93f0-4380-b989-217286914f4f"
      },
      "execution_count": 68,
      "outputs": [
        {
          "output_type": "stream",
          "name": "stdout",
          "text": [
            "25\n"
          ]
        }
      ]
    },
    {
      "cell_type": "code",
      "source": [
        "#first, second, third라는 이름으로\n",
        "#랜덤 숫자 3개를 뽑아보세요. 단, 숫자는 0에서~9 사이\n",
        "#=>이 경우, 첫번째-두번째-세번째 숫자 간 중복 발생\n",
        "#중복을 없애기 위해 숫자 동시에 뽑기 + 리스트에다가 숫자를 저장\n",
        "\n",
        "numbers = list(range(10))\n",
        "print(numbers)\n",
        "\n",
        "#random.shuffle이라는 함수는 리스트 안의 내용을 무작위로 섞어줍니다.\n",
        "random.shuffle(numbers)\n",
        "print(numbers)\n",
        "\n",
        "numbers = numbers[:3]\n",
        "print(numbers)"
      ],
      "metadata": {
        "colab": {
          "base_uri": "https://localhost:8080/"
        },
        "id": "O2SRym5r9pFI",
        "outputId": "7db91656-d56d-4cd1-b80c-b11f9c0468fd"
      },
      "execution_count": 86,
      "outputs": [
        {
          "output_type": "stream",
          "name": "stdout",
          "text": [
            "[0, 1, 2, 3, 4, 5, 6, 7, 8, 9]\n",
            "[2, 5, 0, 9, 8, 3, 7, 1, 6, 4]\n",
            "[2, 5, 0]\n"
          ]
        }
      ]
    },
    {
      "cell_type": "code",
      "source": [
        "#9번숫자를 맞출 기회를 줍니다.\n",
        "count = 0\n",
        "while count < 2:\n",
        "  target = input(\"숫자 세 개를 입력하세요\")\n",
        "  print(target)\n",
        "  count = count + 1\n",
        "\n",
        "  if count == 1:\n",
        "    break\n",
        "print(\"종료했습니다.\")"
      ],
      "metadata": {
        "colab": {
          "base_uri": "https://localhost:8080/"
        },
        "id": "2HQZ8x9VASxK",
        "outputId": "3a3f25bc-202e-4813-bb0c-42c4da23238b"
      },
      "execution_count": 88,
      "outputs": [
        {
          "output_type": "stream",
          "name": "stdout",
          "text": [
            "숫자 세 개를 입력하세요168\n",
            "168\n",
            "종료했습니다.\n"
          ]
        }
      ]
    },
    {
      "cell_type": "code",
      "source": [
        "count=0\n",
        "for a in range(7):\n",
        "  count += 1 #count=count+1\n",
        "  print(count)\n",
        "print(count)"
      ],
      "metadata": {
        "colab": {
          "base_uri": "https://localhost:8080/"
        },
        "id": "PsiOVVxaARbQ",
        "outputId": "ecc6adb4-ad07-49b0-c4f5-e170cacaf630"
      },
      "execution_count": 91,
      "outputs": [
        {
          "output_type": "stream",
          "name": "stdout",
          "text": [
            "1\n",
            "2\n",
            "3\n",
            "4\n",
            "5\n",
            "6\n",
            "7\n",
            "7\n"
          ]
        }
      ]
    },
    {
      "cell_type": "code",
      "source": [
        "#랜덤 숫자와 내가 입력한 숫자의 자리수 체크하기"
      ],
      "metadata": {
        "id": "ZlbvZ2e3F_bX"
      },
      "execution_count": 92,
      "outputs": []
    },
    {
      "cell_type": "code",
      "source": [
        "#리스트 컴프리헨션\n",
        "sum_num = [1, 2, 3]\n",
        "[x+1 for x in sum_num if x%2 == 0]"
      ],
      "metadata": {
        "colab": {
          "base_uri": "https://localhost:8080/"
        },
        "id": "4eG6hmL8GPrP",
        "outputId": "dbecc8af-8556-4e7b-c3fc-d1cb4fae297a"
      },
      "execution_count": 95,
      "outputs": [
        {
          "output_type": "execute_result",
          "data": {
            "text/plain": [
              "[3]"
            ]
          },
          "metadata": {},
          "execution_count": 95
        }
      ]
    },
    {
      "cell_type": "code",
      "source": [
        "[x**2 for x in sum_num]"
      ],
      "metadata": {
        "colab": {
          "base_uri": "https://localhost:8080/"
        },
        "id": "1Wr3H-Z0HHKB",
        "outputId": "a106b3b3-d35f-4705-9671-cc8baca13ae0"
      },
      "execution_count": 94,
      "outputs": [
        {
          "output_type": "execute_result",
          "data": {
            "text/plain": [
              "[1, 4, 9]"
            ]
          },
          "metadata": {},
          "execution_count": 94
        }
      ]
    },
    {
      "cell_type": "code",
      "source": [
        "zoo = ['기린', '렛서판다', '코끼리', '치타']\n",
        "\n",
        "[animal for animal in zoo if len(animal) > 3]"
      ],
      "metadata": {
        "colab": {
          "base_uri": "https://localhost:8080/"
        },
        "id": "OVKN445cHfbi",
        "outputId": "3c655301-f3bc-43f2-d4f0-569970f50efe"
      },
      "execution_count": 96,
      "outputs": [
        {
          "output_type": "execute_result",
          "data": {
            "text/plain": [
              "['렛서판다']"
            ]
          },
          "metadata": {},
          "execution_count": 96
        }
      ]
    },
    {
      "cell_type": "code",
      "source": [
        "#스트라이크와 볼을 판별하는 코드 작성\n",
        "\n",
        "#컴퓨터 생성한 숫자 3개(가상의 숫자)\n",
        "print(numbers)\n",
        "\n",
        "#내가 입력한 숫자 3개\n",
        "target = [4, 5, 7]"
      ],
      "metadata": {
        "colab": {
          "base_uri": "https://localhost:8080/"
        },
        "id": "CxTRzSUMF8ip",
        "outputId": "ec272a3d-4cf9-4f30-df47-ba654821f061"
      },
      "execution_count": 106,
      "outputs": [
        {
          "output_type": "stream",
          "name": "stdout",
          "text": [
            "[2, 5, 0]\n"
          ]
        }
      ]
    },
    {
      "cell_type": "code",
      "source": [
        "#zip 함수\n",
        "#리스트 컴프리헨션\n",
        "strikes = sum(1 for g, a in zip(target, numbers) if g == a)"
      ],
      "metadata": {
        "id": "5M01pgwFJxQ1"
      },
      "execution_count": 109,
      "outputs": []
    },
    {
      "cell_type": "code",
      "source": [
        "strikes"
      ],
      "metadata": {
        "colab": {
          "base_uri": "https://localhost:8080/"
        },
        "id": "8yxlKntYL45-",
        "outputId": "7df59442-3900-414f-aeb6-c2244356ece6"
      },
      "execution_count": 108,
      "outputs": [
        {
          "output_type": "execute_result",
          "data": {
            "text/plain": [
              "1"
            ]
          },
          "metadata": {},
          "execution_count": 108
        }
      ]
    },
    {
      "cell_type": "code",
      "source": [
        "ball = sum(1 for t in target if t in numbers) - strikes"
      ],
      "metadata": {
        "id": "GjocyXCYL6LJ"
      },
      "execution_count": 110,
      "outputs": []
    },
    {
      "cell_type": "code",
      "source": [
        "#zip : 길이가 같은 컬렉션 타입 자료를\n",
        "#같은 순서에 있는 요소끼리 묶어줌\n",
        "[(x, y) for x, y in zip(target, numbers)]"
      ],
      "metadata": {
        "colab": {
          "base_uri": "https://localhost:8080/"
        },
        "id": "c8OqxE8MJvDF",
        "outputId": "5a66583f-35bb-4f8f-dbf6-dcfa0d9f51f3"
      },
      "execution_count": 103,
      "outputs": [
        {
          "output_type": "execute_result",
          "data": {
            "text/plain": [
              "[(4, 2), (6, 5), (7, 0)]"
            ]
          },
          "metadata": {},
          "execution_count": 103
        }
      ]
    },
    {
      "cell_type": "code",
      "source": [
        "ball"
      ],
      "metadata": {
        "colab": {
          "base_uri": "https://localhost:8080/"
        },
        "id": "OIhP5JQqLfbT",
        "outputId": "74d787e5-4c0c-4c48-8d95-9f467bd8623f"
      },
      "execution_count": 111,
      "outputs": [
        {
          "output_type": "execute_result",
          "data": {
            "text/plain": [
              "0"
            ]
          },
          "metadata": {},
          "execution_count": 111
        }
      ]
    },
    {
      "cell_type": "markdown",
      "source": [
        "## 함수"
      ],
      "metadata": {
        "id": "Jc1xfF7AOHck"
      }
    },
    {
      "cell_type": "code",
      "source": [
        "#기본형의 함수를 정의\n",
        "def add():\n",
        "  print(\"안녕 지금부터 덧셈할거야.\")"
      ],
      "metadata": {
        "id": "NJ4g140rOJdC"
      },
      "execution_count": 114,
      "outputs": []
    },
    {
      "cell_type": "code",
      "source": [
        "#함수를 실행\n",
        "add()"
      ],
      "metadata": {
        "colab": {
          "base_uri": "https://localhost:8080/"
        },
        "id": "H8ADRvZSOXh6",
        "outputId": "d492eae5-1bba-4a6e-8bf0-c377ef71525e"
      },
      "execution_count": 115,
      "outputs": [
        {
          "output_type": "stream",
          "name": "stdout",
          "text": [
            "안녕 지금부터 덧셈할거야.\n"
          ]
        }
      ]
    },
    {
      "cell_type": "code",
      "source": [
        "#1.매개변수 == 함수의 준비물\n",
        "#2.리턴"
      ],
      "metadata": {
        "id": "MtMiPLp5NWHs"
      },
      "execution_count": null,
      "outputs": []
    },
    {
      "cell_type": "code",
      "source": [
        "#매개변수 a, b가 있음\n",
        "def add(a, b):\n",
        "  print(a+b)\n",
        "  return a+b"
      ],
      "metadata": {
        "id": "Ow-ai8HfLdxY"
      },
      "execution_count": 119,
      "outputs": []
    },
    {
      "cell_type": "code",
      "source": [
        "result = add(4, 9)"
      ],
      "metadata": {
        "colab": {
          "base_uri": "https://localhost:8080/"
        },
        "id": "EtaFf60xPYjj",
        "outputId": "37cc84e5-4e07-4622-fcb7-2c2521d4ed6f"
      },
      "execution_count": 120,
      "outputs": [
        {
          "output_type": "stream",
          "name": "stdout",
          "text": [
            "13\n"
          ]
        }
      ]
    },
    {
      "cell_type": "code",
      "source": [
        "result"
      ],
      "metadata": {
        "colab": {
          "base_uri": "https://localhost:8080/"
        },
        "id": "gZdpij-HPljc",
        "outputId": "4ff7a541-5025-4c7d-c16a-72161e22fa21"
      },
      "execution_count": 121,
      "outputs": [
        {
          "output_type": "execute_result",
          "data": {
            "text/plain": [
              "13"
            ]
          },
          "metadata": {},
          "execution_count": 121
        }
      ]
    },
    {
      "cell_type": "code",
      "source": [
        "#3개의 매개변수를 받아서\n",
        "#1번째 2번째를 더하고, 3번째 매개변수를 빼는\n",
        "#1, 3, 4 > 1+3-4 를 하는 함수를 정의해보세요.\n",
        "\n",
        "#바깥에 있는 변수 result\n",
        "result = 0\n",
        "\n",
        "#함수 test(매개변수 one, two, three)\n",
        "def test(one, two, three):\n",
        "  result = one + two -three\n",
        "\n",
        "  #반환값 이름도 result\n",
        "  return result\n",
        "\n",
        "\n",
        "test(3, 4, 5)\n",
        "\n",
        "#그러나, 최종적으로 result = 0\n",
        "#함수 test 안에 있는 변수는 값이 밖으로 나올 수 없음\n",
        "#함수에서 바깥으로 전달되려면 return을 통해\n",
        "#밖으로 빠져나와야 함\n",
        "print(result)"
      ],
      "metadata": {
        "colab": {
          "base_uri": "https://localhost:8080/"
        },
        "id": "ROLJGdxEUKzH",
        "outputId": "fea0865f-5409-4136-f9f8-04114d0e26e3"
      },
      "execution_count": 126,
      "outputs": [
        {
          "output_type": "stream",
          "name": "stdout",
          "text": [
            "0\n"
          ]
        }
      ]
    },
    {
      "cell_type": "code",
      "source": [
        "_ = test(5, 6, 3)"
      ],
      "metadata": {
        "id": "btaxiLKvVT27"
      },
      "execution_count": 124,
      "outputs": []
    },
    {
      "cell_type": "code",
      "source": [
        "_"
      ],
      "metadata": {
        "colab": {
          "base_uri": "https://localhost:8080/"
        },
        "id": "6Y0sqzAWVaE_",
        "outputId": "d8a28f76-8284-4523-a3f2-87cb8fe9cddd"
      },
      "execution_count": 125,
      "outputs": [
        {
          "output_type": "execute_result",
          "data": {
            "text/plain": [
              "8"
            ]
          },
          "metadata": {},
          "execution_count": 125
        }
      ]
    },
    {
      "cell_type": "code",
      "source": [
        "number = input()"
      ],
      "metadata": {
        "colab": {
          "base_uri": "https://localhost:8080/"
        },
        "id": "70rQHHbxZrB3",
        "outputId": "371e9cfa-f226-4c4d-f156-073c3f623edd"
      },
      "execution_count": 130,
      "outputs": [
        {
          "name": "stdout",
          "output_type": "stream",
          "text": [
            "359\n"
          ]
        }
      ]
    },
    {
      "cell_type": "code",
      "source": [
        "list(map(int, number))"
      ],
      "metadata": {
        "colab": {
          "base_uri": "https://localhost:8080/"
        },
        "id": "gs6lBEFOaI7h",
        "outputId": "f2773058-b412-4a75-ee88-d90055897fef"
      },
      "execution_count": 134,
      "outputs": [
        {
          "output_type": "execute_result",
          "data": {
            "text/plain": [
              "[3, 5, 9]"
            ]
          },
          "metadata": {},
          "execution_count": 134
        }
      ]
    },
    {
      "cell_type": "code",
      "source": [],
      "metadata": {
        "id": "9xN3_L-KaKmW"
      },
      "execution_count": null,
      "outputs": []
    },
    {
      "cell_type": "code",
      "source": [
        "import random\n",
        "\n",
        "def generate_number():\n",
        "    #10개의 숫자를 리스트로 만들어놓음\n",
        "    digits = list(range(10))\n",
        "\n",
        "    #shuffle은 무작위로 섞어주는 함수\n",
        "    random.shuffle(digits)\n",
        "    return digits[:3]\n",
        "\n",
        "#스트라이크와 볼을 체크\n",
        "def get_strikes_and_balls(guess, answer):\n",
        "    strikes = sum(1 for g, a in zip(guess, answer) if g == a)\n",
        "    balls = sum(1 for g in guess if g in answer) - strikes\n",
        "    return strikes, balls\n",
        "\n",
        "def main():\n",
        "    #랜덤 숫자 기록\n",
        "    answer = generate_number()\n",
        "    attempts = 0\n",
        "\n",
        "    print(\"숫자 야구 게임에 오신 것을 환영합니다!\")\n",
        "    print(\"0-9 사이의 중복되지 않는 3자리 숫자를 맞춰보세요.\")\n",
        "\n",
        "    while True:\n",
        "        guess = input(\"숫자를 입력하세요: \")\n",
        "        #세 자리 숫자가 아닌 경우, 숫자가 아닌 경우, 중복인 경우 걸러내기\n",
        "        if len(guess) != 3 or not guess.isdigit() or len(set(guess)) != 3:\n",
        "            print(\"잘못된 입력입니다. 0-9 사이의 중복되지 않는 3자리 숫자를 입력하세요.\")\n",
        "            continue\n",
        "\n",
        "\n",
        "        #입력된 문자를 숫자로 변환하여 리스트로 변환하기\n",
        "        #map(함수, 데이터)\n",
        "        guess = list(map(int, guess))\n",
        "        #guess = [3, 5, 9]\n",
        "\n",
        "\n",
        "        #시도의 횟수 기록하기\n",
        "        attempts += 1\n",
        "\n",
        "        #스트라이크와 볼 기록하기기\n",
        "        strikes, balls = get_strikes_and_balls(guess, answer)\n",
        "\n",
        "        print(f\"{strikes} 스트라이크, {balls} 볼\")\n",
        "\n",
        "        if strikes == 3:\n",
        "            print(f\"축하합니다! {attempts}번 만에 맞추셨습니다.\")\n",
        "            break"
      ],
      "metadata": {
        "id": "3uMk2UvjVbDL"
      },
      "execution_count": 136,
      "outputs": []
    },
    {
      "cell_type": "code",
      "source": [
        "main()"
      ],
      "metadata": {
        "colab": {
          "base_uri": "https://localhost:8080/",
          "height": 333
        },
        "id": "vWTc_ej-VWPZ",
        "outputId": "280ba104-3863-43e9-8463-54bdf42bba8e"
      },
      "execution_count": 137,
      "outputs": [
        {
          "output_type": "stream",
          "name": "stdout",
          "text": [
            "숫자 야구 게임에 오신 것을 환영합니다!\n",
            "0-9 사이의 중복되지 않는 3자리 숫자를 맞춰보세요.\n"
          ]
        },
        {
          "output_type": "error",
          "ename": "KeyboardInterrupt",
          "evalue": "Interrupted by user",
          "traceback": [
            "\u001b[0;31m---------------------------------------------------------------------------\u001b[0m",
            "\u001b[0;31mKeyboardInterrupt\u001b[0m                         Traceback (most recent call last)",
            "\u001b[0;32m<ipython-input-137-263240bbee7e>\u001b[0m in \u001b[0;36m<cell line: 1>\u001b[0;34m()\u001b[0m\n\u001b[0;32m----> 1\u001b[0;31m \u001b[0mmain\u001b[0m\u001b[0;34m(\u001b[0m\u001b[0;34m)\u001b[0m\u001b[0;34m\u001b[0m\u001b[0;34m\u001b[0m\u001b[0m\n\u001b[0m",
            "\u001b[0;32m<ipython-input-136-ac885728de74>\u001b[0m in \u001b[0;36mmain\u001b[0;34m()\u001b[0m\n\u001b[1;32m     24\u001b[0m \u001b[0;34m\u001b[0m\u001b[0m\n\u001b[1;32m     25\u001b[0m     \u001b[0;32mwhile\u001b[0m \u001b[0;32mTrue\u001b[0m\u001b[0;34m:\u001b[0m\u001b[0;34m\u001b[0m\u001b[0;34m\u001b[0m\u001b[0m\n\u001b[0;32m---> 26\u001b[0;31m         \u001b[0mguess\u001b[0m \u001b[0;34m=\u001b[0m \u001b[0minput\u001b[0m\u001b[0;34m(\u001b[0m\u001b[0;34m\"숫자를 입력하세요: \"\u001b[0m\u001b[0;34m)\u001b[0m\u001b[0;34m\u001b[0m\u001b[0;34m\u001b[0m\u001b[0m\n\u001b[0m\u001b[1;32m     27\u001b[0m         \u001b[0;31m#세 자리 숫자가 아닌 경우, 숫자가 아닌 경우, 중복인 경우 걸러내기\u001b[0m\u001b[0;34m\u001b[0m\u001b[0;34m\u001b[0m\u001b[0m\n\u001b[1;32m     28\u001b[0m         \u001b[0;32mif\u001b[0m \u001b[0mlen\u001b[0m\u001b[0;34m(\u001b[0m\u001b[0mguess\u001b[0m\u001b[0;34m)\u001b[0m \u001b[0;34m!=\u001b[0m \u001b[0;36m3\u001b[0m \u001b[0;32mor\u001b[0m \u001b[0;32mnot\u001b[0m \u001b[0mguess\u001b[0m\u001b[0;34m.\u001b[0m\u001b[0misdigit\u001b[0m\u001b[0;34m(\u001b[0m\u001b[0;34m)\u001b[0m \u001b[0;32mor\u001b[0m \u001b[0mlen\u001b[0m\u001b[0;34m(\u001b[0m\u001b[0mset\u001b[0m\u001b[0;34m(\u001b[0m\u001b[0mguess\u001b[0m\u001b[0;34m)\u001b[0m\u001b[0;34m)\u001b[0m \u001b[0;34m!=\u001b[0m \u001b[0;36m3\u001b[0m\u001b[0;34m:\u001b[0m\u001b[0;34m\u001b[0m\u001b[0;34m\u001b[0m\u001b[0m\n",
            "\u001b[0;32m/usr/local/lib/python3.10/dist-packages/ipykernel/kernelbase.py\u001b[0m in \u001b[0;36mraw_input\u001b[0;34m(self, prompt)\u001b[0m\n\u001b[1;32m    849\u001b[0m                 \u001b[0;34m\"raw_input was called, but this frontend does not support input requests.\"\u001b[0m\u001b[0;34m\u001b[0m\u001b[0;34m\u001b[0m\u001b[0m\n\u001b[1;32m    850\u001b[0m             )\n\u001b[0;32m--> 851\u001b[0;31m         return self._input_request(str(prompt),\n\u001b[0m\u001b[1;32m    852\u001b[0m             \u001b[0mself\u001b[0m\u001b[0;34m.\u001b[0m\u001b[0m_parent_ident\u001b[0m\u001b[0;34m,\u001b[0m\u001b[0;34m\u001b[0m\u001b[0;34m\u001b[0m\u001b[0m\n\u001b[1;32m    853\u001b[0m             \u001b[0mself\u001b[0m\u001b[0;34m.\u001b[0m\u001b[0m_parent_header\u001b[0m\u001b[0;34m,\u001b[0m\u001b[0;34m\u001b[0m\u001b[0;34m\u001b[0m\u001b[0m\n",
            "\u001b[0;32m/usr/local/lib/python3.10/dist-packages/ipykernel/kernelbase.py\u001b[0m in \u001b[0;36m_input_request\u001b[0;34m(self, prompt, ident, parent, password)\u001b[0m\n\u001b[1;32m    893\u001b[0m             \u001b[0;32mexcept\u001b[0m \u001b[0mKeyboardInterrupt\u001b[0m\u001b[0;34m:\u001b[0m\u001b[0;34m\u001b[0m\u001b[0;34m\u001b[0m\u001b[0m\n\u001b[1;32m    894\u001b[0m                 \u001b[0;31m# re-raise KeyboardInterrupt, to truncate traceback\u001b[0m\u001b[0;34m\u001b[0m\u001b[0;34m\u001b[0m\u001b[0m\n\u001b[0;32m--> 895\u001b[0;31m                 \u001b[0;32mraise\u001b[0m \u001b[0mKeyboardInterrupt\u001b[0m\u001b[0;34m(\u001b[0m\u001b[0;34m\"Interrupted by user\"\u001b[0m\u001b[0;34m)\u001b[0m \u001b[0;32mfrom\u001b[0m \u001b[0;32mNone\u001b[0m\u001b[0;34m\u001b[0m\u001b[0;34m\u001b[0m\u001b[0m\n\u001b[0m\u001b[1;32m    896\u001b[0m             \u001b[0;32mexcept\u001b[0m \u001b[0mException\u001b[0m \u001b[0;32mas\u001b[0m \u001b[0me\u001b[0m\u001b[0;34m:\u001b[0m\u001b[0;34m\u001b[0m\u001b[0;34m\u001b[0m\u001b[0m\n\u001b[1;32m    897\u001b[0m                 \u001b[0mself\u001b[0m\u001b[0;34m.\u001b[0m\u001b[0mlog\u001b[0m\u001b[0;34m.\u001b[0m\u001b[0mwarning\u001b[0m\u001b[0;34m(\u001b[0m\u001b[0;34m\"Invalid Message:\"\u001b[0m\u001b[0;34m,\u001b[0m \u001b[0mexc_info\u001b[0m\u001b[0;34m=\u001b[0m\u001b[0;32mTrue\u001b[0m\u001b[0;34m)\u001b[0m\u001b[0;34m\u001b[0m\u001b[0;34m\u001b[0m\u001b[0m\n",
            "\u001b[0;31mKeyboardInterrupt\u001b[0m: Interrupted by user"
          ]
        }
      ]
    },
    {
      "cell_type": "code",
      "source": [],
      "metadata": {
        "id": "BcIaePgQa4cv"
      },
      "execution_count": null,
      "outputs": []
    },
    {
      "cell_type": "code",
      "source": [],
      "metadata": {
        "id": "Vg0vSqH6PaXJ"
      },
      "execution_count": null,
      "outputs": []
    },
    {
      "cell_type": "code",
      "source": [],
      "metadata": {
        "id": "PP0NqhiEKeon"
      },
      "execution_count": null,
      "outputs": []
    },
    {
      "cell_type": "code",
      "source": [],
      "metadata": {
        "id": "mxcrb-GvKcr3"
      },
      "execution_count": null,
      "outputs": []
    },
    {
      "cell_type": "code",
      "source": [],
      "metadata": {
        "id": "1qmTvoWxKY2R"
      },
      "execution_count": null,
      "outputs": []
    },
    {
      "cell_type": "code",
      "source": [],
      "metadata": {
        "id": "nfvYXeKbF6sv"
      },
      "execution_count": null,
      "outputs": []
    },
    {
      "cell_type": "code",
      "source": [],
      "metadata": {
        "id": "mrBaqbBGAAn6"
      },
      "execution_count": null,
      "outputs": []
    },
    {
      "cell_type": "code",
      "source": [],
      "metadata": {
        "id": "OaTh6VrJ_0Et"
      },
      "execution_count": null,
      "outputs": []
    },
    {
      "cell_type": "code",
      "source": [],
      "metadata": {
        "id": "3tdWylfo_PQV"
      },
      "execution_count": null,
      "outputs": []
    },
    {
      "cell_type": "code",
      "source": [],
      "metadata": {
        "id": "3wtziQPg-xjg"
      },
      "execution_count": null,
      "outputs": []
    },
    {
      "cell_type": "code",
      "source": [],
      "metadata": {
        "id": "8Rww5hFK9mbD"
      },
      "execution_count": null,
      "outputs": []
    }
  ]
}